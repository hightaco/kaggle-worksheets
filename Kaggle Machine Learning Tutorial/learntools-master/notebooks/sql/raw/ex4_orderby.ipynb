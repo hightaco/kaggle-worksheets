{
 "cells": [
  {
   "cell_type": "markdown",
   "metadata": {},
   "source": [
    "# Intro\n",
    "\n",
    "You've built up your SQL skills enough that the remaining hands-on exercises will use different datasets than you see in the explanations. If you need to familiarize with a new dataset, you can run a couple of `SELECT` queries to extract and review the data you need. \n",
    "\n",
    "The next exercises are also more challenging than what you've done so far. Don't worry, you are ready for it.\n",
    "\n",
    "Run the code in the following cell to get everything set up:"
   ]
  },
  {
   "cell_type": "code",
   "execution_count": null,
   "metadata": {
    "collapsed": true
   },
   "outputs": [],
   "source": [
    "# Set up feedack system\n",
    "from learntools.core import binder\n",
    "binder.bind(globals())\n",
    "from learntools.sql.ex4 import *\n",
    "\n",
    "# import package with helper functions \n",
    "import bq_helper\n",
    "\n",
    "# create a helper object for this dataset\n",
    "education_data = bq_helper.BigQueryHelper(active_project=\"bigquery-public-data\",\n",
    "                                          dataset_name=\"world_bank_intl_education\")"
   ]
  },
  {
   "cell_type": "markdown",
   "metadata": {},
   "source": [
    "Then write the code to answer the questions below"
   ]
  },
  {
   "cell_type": "markdown",
   "metadata": {},
   "source": [
    "# Questions\n",
    "\n",
    "## 1) Which countries spend the largest fraction of GDP on education?\n",
    "\n",
    "The World Bank has made tons of interesting education data available through BigQuery. Run the following cell to see the first few rows of the table."
   ]
  },
  {
   "cell_type": "code",
   "execution_count": null,
   "metadata": {},
   "outputs": [],
   "source": [
    "education_data.head('international_education')"
   ]
  },
  {
   "cell_type": "markdown",
   "metadata": {},
   "source": [
    "The indicator code describes what type of data is shown in a given row.  \n",
    "\n",
    "One interesting indicator code is `SE.XPD.TOTL.GD.ZS`. The name says this is `Government expenditure on education as % of GDP (%)`.\n",
    "\n",
    "Write a query to get a dataframe returning **average value of these rows for each country in the dataset between the years 2010-2017** (including 2010 and 2017 in the average). \n",
    "\n",
    "Requirements:\n",
    "- Your results should have the country name rather than the country code. You will have one row for each country\n",
    "- The aggregation for an average is **AVG**.  Use the name `avg_ed_spending_pct` for the column created by this aggregation\n",
    "- Order the results so the countries that spend the largest fraction of GDP on education show up first.\n",
    "\n",
    "In case it's useful to see a sample query, here's a query you saw in the tutorial (using a different database):\n",
    "```\n",
    "# query to find how many accidents happen each day of the week\n",
    "query = \"\"\"SELECT COUNT(consecutive_number) num_accidents, \n",
    "                  EXTRACT(DAYOFWEEK FROM timestamp_of_crash)\n",
    "            FROM `bigquery-public-data.nhtsa_traffic_fatalities.accident_2016`\n",
    "            GROUP BY EXTRACT(DAYOFWEEK FROM timestamp_of_crash)\n",
    "            ORDER BY COUNT(consecutive_number) DESC\n",
    "        \"\"\"\n",
    "accidents_by_day = accidents.query_to_pandas_safe(query)\n",
    "```"
   ]
  },
  {
   "cell_type": "code",
   "execution_count": null,
   "metadata": {
    "collapsed": true
   },
   "outputs": [],
   "source": [
    "# Your Code Here\n",
    "\n",
    "country_spend_pct_query = \"\"\"\n",
    "SELECT _____\n",
    "FROM `bigquery-public-data.world_bank_intl_education.international_education`\n",
    "WHERE ____\n",
    "GROUP BY ____\n",
    "ORDER BY ____\n",
    "\"\"\"\n",
    "\n",
    "country_spending_results = education_data.query_to_pandas_safe(country_spend_pct_query)\n",
    "\n",
    "print(country_spending_results.head())\n",
    "q_1.check()"
   ]
  },
  {
   "cell_type": "code",
   "execution_count": null,
   "metadata": {},
   "outputs": [],
   "source": [
    "# q_1.hint()\n",
    "# q_1.solution()"
   ]
  },
  {
   "cell_type": "markdown",
   "metadata": {},
   "source": [
    "## 2) Identifying Interesting Codes to Explore\n",
    "The last question started by telling you to focus on rows with the code `SE.XPD.TOTL.GD.ZS`. But how would you find interesting indicator codes to explore?\n",
    "\n",
    "There are 1000s of codes in the dataset, so it would time consuming to review them all. But many codes are available for only a few countries. When browsing the options for different codes, you might restrict yourself to codes that are reported by many countries.\n",
    "\n",
    "Write the query below that selects the indicator code and indicator name for all codes with at least 175 rows in the year 2016.\n",
    "\n",
    "Requirements:\n",
    "- One row in your results per code\n",
    "- The columns in your results should be called `indicator_code`, `indicator_name` and `num_rows`.\n",
    "- Only select codes with 175 or more rows in the raw database (exactly 175 rows would be included)\n",
    "- To get both the `indicator_code` and `indicator_name` in your resulting DataFrame, you need to include both in your select statement (in addition to a `COUNT` aggregation). This in turn requires you include both in your `GROUP BY` clause.\n",
    "- Order from results most frequent to least frequent"
   ]
  },
  {
   "cell_type": "code",
   "execution_count": null,
   "metadata": {
    "collapsed": true
   },
   "outputs": [],
   "source": [
    "# Your Code Here\n",
    "code_count_query = \"\"\"____\"\"\"\n",
    "\n",
    "code_count_results = education_data.query_to_pandas_safe(code_count_query)\n",
    "\n",
    "print(code_count_results.head())\n",
    "q_2.check()\n"
   ]
  },
  {
   "cell_type": "code",
   "execution_count": null,
   "metadata": {},
   "outputs": [],
   "source": [
    "q_2.hint()\n",
    "q_2.solution()"
   ]
  },
  {
   "cell_type": "markdown",
   "metadata": {},
   "source": [
    "---\n",
    "# Keep Going\n",
    "**[Click here](#$NEXT_NOTEBOOK_URL$)** to learn how *WITH-AS* clauses  can clean up your code and help you construct more complex queries.\n"
   ]
  }
 ],
 "metadata": {
  "kernelspec": {
   "display_name": "Python 3",
   "language": "python",
   "name": "python3"
  },
  "language_info": {
   "codemirror_mode": {
    "name": "ipython",
    "version": 3
   },
   "file_extension": ".py",
   "mimetype": "text/x-python",
   "name": "python",
   "nbconvert_exporter": "python",
   "pygments_lexer": "ipython3",
   "version": "3.6.5"
  }
 },
 "nbformat": 4,
 "nbformat_minor": 2
}
