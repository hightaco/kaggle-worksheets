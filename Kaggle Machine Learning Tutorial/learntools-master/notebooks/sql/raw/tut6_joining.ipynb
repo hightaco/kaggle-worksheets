{
 "cells": [
  {
   "cell_type": "markdown",
   "metadata": {},
   "source": [
    "# Intro\n",
    "\n",
    "You have the tools to data from a single table in whatever format you want it. But what if the data you want is spread across multiple tables?\n",
    "\n",
    "That's where **JOIN** comes in! **JOIN** is incredibly important in practical SQL workflows. So let's get started.\n",
    "\n",
    "# Example\n",
    "\n",
    "We'll use our imaginary Pets dataset, but we'll add a second table. The first table, `Pets`, has three columns, with information on \n",
    "- The ID number of each pet\n",
    "- The pet's name, and \n",
    "- The type of animal `\n",
    "\n",
    "The `Owners` table also has three columns: \n",
    "- An ID number for each owner (different from the Pet ID number\n",
    "- The name of the owner\n",
    "- The ID number of their pet (which matches the ID number in the `Pets` table.\n",
    "\n",
    "![](https://i.imgur.com/W4gYoNg.png)\n",
    "\n",
    "Each row in each table is associated with a single pet and we refer to the same pets in both tables. That's why there are two columns (ID in the `Pets` table and Pet_ID in the `Owners` table) that have the same information in them: the ID number of the pet. \n",
    "\n",
    "We can match rows with the same value in these columns to get information that applies to a certain pet. For example, the `Pets` table shows that the pet with the ID 1 is named Dr. Harris Bonkers. The Owners table shows that \"Aubrey Little\" is the owner of the pet with Pet ID 1. Putting these two facts together, Dr. Harris Bonkers is owned by Aubrey Little. \n",
    "\n",
    "Fortunately, we don't have to do this by hand to figure out which owner's name goes with which pet name. **JOIN** allows us to create a new table combining information from the Pets and Owners table. For example, we can create a table with just two columns: the name of the pet and the name of the owner. \n",
    "\n",
    "![](https://i.imgur.com/zqQdJTI.png)\n",
    "\n",
    "The syntax to create that table looks like this:\n",
    "\n",
    "    SELECT p.Name AS Pet_Name, o.Name as Owner_Name\n",
    "    FROM `bigquery-public-data.pet_records.pets` as p\n",
    "    INNER JOIN `bigquery-public-data.pet_records.owners` as o ON p.ID = o.Pet_ID\n",
    "\n",
    "Notice that since the `ID` column exists in both datasets, we have to clarify which one to use. When you're joining tables, it's a good habit to specify which table all of your columns come from. That way you don't have to pull up the schema every time you go back to read the query.\n",
    "\n",
    "The type of **JOIN** we're using today is called an **INNER JOIN**. That means that a row will only be put in the final output table if the value in the column you're using to combine them shows up in both the tables you're joining. For example, if Tom's ID code of 4 didn't exist in the `Pets` table, we would only get 3 rows back from this query. There are other types of **JOIN**, but an **INNER JOIN** is very widely used, so it's a good one to start with.\n",
    "\n",
    "> **What does \"ON\" do?** It says which column in each table to look at to combine the tables. Here were using the \"ID\" column from the Pets table and the \"Pet_ID\" table from the Owners table.\n",
    "\n",
    "Now that we've talked about the concept behind using **JOIN**, let's work through an example together."
   ]
  },
  {
   "cell_type": "markdown",
   "metadata": {},
   "source": [
    "# Example: How many files are covered by each type of software license?\n",
    "\n",
    "GitHub is the most popular place to collaborate on software. A \"repo\" is a collection of code associated with a specific project. \n",
    "\n",
    "Most public code on Github is shared under a specific legal license, which determines the legal restrictions on how it is used. For our example, we're going to look at how many different files have been released under each license. \n",
    "\n",
    "First, of course, we need to get our environment ready to go:"
   ]
  },
  {
   "cell_type": "code",
   "execution_count": null,
   "metadata": {
    "collapsed": true
   },
   "outputs": [],
   "source": [
    "# import package with helper functions \n",
    "import bq_helper\n",
    "\n",
    "# create a helper object for this dataset\n",
    "github = bq_helper.BigQueryHelper(active_project=\"bigquery-public-data\",\n",
    "                                              dataset_name=\"github_repos\")"
   ]
  },
  {
   "cell_type": "markdown",
   "metadata": {},
   "source": [
    "Now we're ready to write our query. \n",
    "\n",
    "First I write the `SELECT` part. I want the license, as well as the count of how many rows there are in the `sample_files` table (which you've seen you can get with `COUNT(1)`.) I can access the `license` column, even though it isn't in the `sample_files` table, because that will be joined \n",
    "\n",
    "        SELECT L.license, COUNT(1) AS number_of_files\n",
    "\n",
    "\n",
    "Now we specify the sources of this data and how to join them. We use **ON** to specify that we use the \"repo_name\" column for the **JOIN**.\n",
    "\n",
    "    FROM `bigquery-public-data.github_repos.sample_files` as sf\n",
    "    INNER JOIN `bigquery-public-data.github_repos.licenses` as L \n",
    "            ON sf.repo_name = L.repo_name\n",
    "\n",
    "Finally, the **GROUP BY** specifies how to break the data into groups when it is counted, and the **ORDER BY** specifies the order when showing the results.\n",
    "\n",
    "        GROUP BY license\n",
    "        ORDER BY number_of_files DESC\n",
    "\n",
    "Here it is in one piece."
   ]
  },
  {
   "cell_type": "code",
   "execution_count": null,
   "metadata": {
    "collapsed": true
   },
   "outputs": [],
   "source": [
    "query = (\"\"\"\n",
    "        SELECT L.license, COUNT(1) AS number_of_files\n",
    "        FROM `bigquery-public-data.github_repos.sample_files` as sf\n",
    "        INNER JOIN `bigquery-public-data.github_repos.licenses` as L \n",
    "            ON sf.repo_name = L.repo_name\n",
    "        GROUP BY L.license\n",
    "        ORDER BY number_of_files DESC\n",
    "        \"\"\")\n",
    "\n",
    "file_count_by_license = github.query_to_pandas_safe(query, max_gb_scanned=6)"
   ]
  },
  {
   "cell_type": "markdown",
   "metadata": {},
   "source": [
    "It was a big query, but it gave us a nice table summarizing how many files have been committed under each license:  "
   ]
  },
  {
   "cell_type": "code",
   "execution_count": null,
   "metadata": {
    "collapsed": true
   },
   "outputs": [],
   "source": [
    "print(file_count_by_license)"
   ]
  },
  {
   "cell_type": "markdown",
   "metadata": {},
   "source": [
    "You'll use JOIN clauses a lot and get very efficient with them as you get some practice.\n",
    "\n",
    "# Your Turn\n",
    "\n",
    "You are on the last step.  Finish it by solving **[this question](#$NEXT_NOTEBOOK_URL$)**.\n"
   ]
  }
 ],
 "metadata": {
  "kernelspec": {
   "display_name": "Python 3",
   "language": "python",
   "name": "python3"
  },
  "language_info": {
   "codemirror_mode": {
    "name": "ipython",
    "version": 3
   },
   "file_extension": ".py",
   "mimetype": "text/x-python",
   "name": "python",
   "nbconvert_exporter": "python",
   "pygments_lexer": "ipython3",
   "version": "3.6.5"
  }
 },
 "nbformat": 4,
 "nbformat_minor": 2
}
