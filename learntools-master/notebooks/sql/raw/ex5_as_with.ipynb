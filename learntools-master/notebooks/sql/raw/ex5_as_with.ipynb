{
 "cells": [
  {
   "cell_type": "markdown",
   "metadata": {},
   "source": [
    "# Intro\n",
    "\n",
    "You are getting to the point where you can own an analysis from beginning to end. So you'll do more data exploration in this exercise than you've done before.  Before you get started, run the following set-up code as usual. Notice that your `BigQueryHelper` object is called `chicago_taxi_helper`."
   ]
  },
  {
   "cell_type": "code",
   "execution_count": null,
   "metadata": {
    "collapsed": true
   },
   "outputs": [],
   "source": [
    "# Set up feedack system\n",
    "from learntools.core import binder\n",
    "binder.bind(globals())\n",
    "from learntools.sql.ex5 import *\n",
    "\n",
    "# import package with helper functions \n",
    "import bq_helper\n",
    "\n",
    "# create a helper object for this dataset\n",
    "chicago_taxi_helper = bq_helper.BigQueryHelper(active_project=\"bigquery-public-data\",\n",
    "                                               dataset_name=\"chicago_taxi_trips\")"
   ]
  },
  {
   "cell_type": "markdown",
   "metadata": {},
   "source": [
    "# Questions\n",
    "\n",
    "This dataset contains a table with the information about taxi trips in the city of Chicago. You are curious how much slower traffic moves when traffic volume is high. This involves a few steps.\n",
    "\n",
    "# 1) Find the Data\n",
    "Before you can access the data, you need to find the table name with the data.\n",
    "\n",
    "- Hint: Tab completion is helpful whenever you can't remember a command. Type `chicago_taxi_helper.` and then hit the tab key. Don't forget the period before hitting tab."
   ]
  },
  {
   "cell_type": "code",
   "execution_count": null,
   "metadata": {
    "collapsed": true
   },
   "outputs": [],
   "source": [
    "# Your code here to find the table name\n",
    "____"
   ]
  },
  {
   "cell_type": "code",
   "execution_count": null,
   "metadata": {},
   "outputs": [],
   "source": [
    "# write the table name as a string below\n",
    "table_name = ____\n",
    "\n",
    "q_1.check()"
   ]
  },
  {
   "cell_type": "code",
   "execution_count": null,
   "metadata": {},
   "outputs": [],
   "source": [
    "# q_1.solution()"
   ]
  },
  {
   "cell_type": "markdown",
   "metadata": {},
   "source": [
    "# 2) Peek at the data\n",
    "\n",
    "Use `chicago_taxi_helper.head` to peak at the top few rows of the data. Inspect the data and see if any data quality are immediately obvious. After deciding whether you see any important issues, look at `q_2.solution()`."
   ]
  },
  {
   "cell_type": "code",
   "execution_count": null,
   "metadata": {},
   "outputs": [],
   "source": [
    "# your code here\n",
    "____"
   ]
  },
  {
   "cell_type": "code",
   "execution_count": null,
   "metadata": {},
   "outputs": [],
   "source": [
    "q_2.solution()"
   ]
  },
  {
   "cell_type": "markdown",
   "metadata": {},
   "source": [
    "# 3) Determine when this data is from\n",
    "\n",
    "If the data is sufficiently old, we might be careful before assuming the data is still relevant to traffic patterns today. Write a query that counts the number of trips in each year.  \n",
    "\n",
    "Your results should have two columns\n",
    "1. The year of the trips, which is called `year`\n",
    "2. The number of trips in that year, called `num_trips`.\n",
    "\n",
    "Hints:\n",
    "- When using `GROUP BY` and `ORDER BY`, you should refer to the columns by the alias `year` that you set at the top of the **SELECT** query.\n",
    "- The sql code to select the Year from `trip_start_timestamp` is <code>SELECT **EXTRACT(YEAR FROM trip_start_timestamp)**</code>\n",
    "- The FROM field can be a little tricky until you are used to it.  The format is\n",
    "    1. A backick (the symbol \\`)\n",
    "    2. The project name. You can find this in the line where we created the BigQueryHelper object. In this case it is `bigquery-public-data`\n",
    "    3. A period\n",
    "    4. The dataset name. Also in the line where we created the BigQueryHelper object. In this case, it is `chicago_taxi_trips`\n",
    "    5. A period\n",
    "    6. The table name, which you have already used as your answer in part 1.\n",
    "\n"
   ]
  },
  {
   "cell_type": "code",
   "execution_count": null,
   "metadata": {},
   "outputs": [],
   "source": [
    "rides_per_year_query = \"\"\"\n",
    "____\n",
    "\"\"\"\n",
    "\n",
    "rides_per_year_result = ____\n",
    "\n",
    "\n",
    "print(rides_per_year_result)\n",
    "q_3.check()"
   ]
  },
  {
   "cell_type": "code",
   "execution_count": null,
   "metadata": {},
   "outputs": [],
   "source": [
    "# q_3.hint()\n",
    "# q_3.solution()"
   ]
  },
  {
   "cell_type": "markdown",
   "metadata": {},
   "source": [
    "# 4) Dive Slightly Deeper\n",
    "\n",
    "It's odd that 2017 had so few rides. You should wonder whether it was systematic under-reporting throughout the year, or whether some months are missing.  Copy the query you used above in `rides_per_year_query` into the cell below for `rides_per_month_query`.  Then modify it in two ways\n",
    "1. Use a where clause to limit our query to data from 2017\n",
    "2. Modify the extract statement to extract the month rather than the year\n"
   ]
  },
  {
   "cell_type": "code",
   "execution_count": null,
   "metadata": {},
   "outputs": [],
   "source": [
    "rides_per_month_query = \"\"\"\n",
    "____\n",
    "\"\"\"\n",
    "\n",
    "rides_per_month_result = ____\n",
    "\n",
    "print(rides_per_month_result)\n",
    "q_4.check()"
   ]
  },
  {
   "cell_type": "code",
   "execution_count": null,
   "metadata": {},
   "outputs": [],
   "source": [
    "#q_4.hint()\n",
    "#q_4.solution()"
   ]
  },
  {
   "cell_type": "markdown",
   "metadata": {},
   "source": [
    "# 5) Write the Query\n",
    "\n",
    "Let's step up the sophistication of your queries.\n",
    "\n",
    "Write a query\n",
    "- A column called `hour_of_day` and sort by this, which holds the result of extracting the hour from `trip_start_timestamp`.\n",
    "- The count of total number of trips in each hour of the day (e.g. how many trips occurred between 6AM and 7AM, independent of which day it occurred on). Call this `num_trips`\n",
    "- The average speed, measured in miles per hour, for trips that started in that hour of the day.  Average speed in miles per hour is calculated as `3600 * SUM(trip_miles) / SUM(trip_seconds)`. Call this column `avg_mph`. The value 3600 is used to convert from seconds to hours.\n",
    "\n",
    "For 2017, we're missing August and everything after. So restrict your query to data meeting the following criteria\n",
    "- a `trip_start_timestamp` between **2017-01-01** and **2017-07-01**\n",
    "- `trip_seconds` > 0 and `trip_miles` > 0\n",
    "\n",
    "\n",
    "You will use a CTE to select just the relevant rides.  Because this dataset is very big, this CTE should select only the columns you'll need to create the final output (though you won't actually create those in the CTE. Instead you'll create those in the later `SELECT` statement.)\n",
    "\n",
    "This is a much harder query than anything you've written so far.  Good luck!\n"
   ]
  },
  {
   "cell_type": "code",
   "execution_count": null,
   "metadata": {},
   "outputs": [],
   "source": [
    "speeds_query = \"\"\"\n",
    "WITH RelevantRides AS\n",
    "(SELECT ____\n",
    "FROM ____\n",
    "WHERE ____\n",
    ")\n",
    "\n",
    "SELECT ______\n",
    "FROM RelevantRides\n",
    "GROUP BY ____\n",
    "ORDER BY ____\n",
    "\"\"\"\n",
    "\n",
    "# Set high max_gb_scanned because this query looks at more data\n",
    "speeds_result = chicago_taxi_helper.query_to_pandas_safe(speeds_query, max_gb_scanned=20)\n",
    "\n",
    "print(speeds_result)\n",
    "q_5.check()"
   ]
  },
  {
   "cell_type": "code",
   "execution_count": null,
   "metadata": {},
   "outputs": [],
   "source": [
    "# q_5.hint()\n",
    "# q_5.solution()"
   ]
  },
  {
   "cell_type": "markdown",
   "metadata": {},
   "source": [
    "That's a hard query. If you made good progress towards the solution, congratulations!"
   ]
  },
  {
   "cell_type": "markdown",
   "metadata": {},
   "source": [
    "# 6. Ponder the Results\n",
    "Something is wrong with either the raw data or our last query. What fact about the raw data doesn't seem right?\n",
    "\n",
    "If you can identify the problem, how would you look at the raw data to verify that the problem is in the raw data and not just in your results? Check your answer below"
   ]
  },
  {
   "cell_type": "code",
   "execution_count": null,
   "metadata": {},
   "outputs": [],
   "source": [
    "# q_6.solution()"
   ]
  },
  {
   "cell_type": "markdown",
   "metadata": {},
   "source": [
    "# Keep Going\n",
    "\n",
    "You can write very complex queries now with a single data source. But nothing expands the horizons of SQL as much as the ability to combine or **JOIN** tables.\n",
    "\n",
    "**[Click here](#$NEXT_NOTEBOOK_URL$)** to start the last lesson in SQL course.\n"
   ]
  }
 ],
 "metadata": {
  "kernelspec": {
   "display_name": "Python 3",
   "language": "python",
   "name": "python3"
  },
  "language_info": {
   "codemirror_mode": {
    "name": "ipython",
    "version": 3
   },
   "file_extension": ".py",
   "mimetype": "text/x-python",
   "name": "python",
   "nbconvert_exporter": "python",
   "pygments_lexer": "ipython3",
   "version": "3.6.5"
  }
 },
 "nbformat": 4,
 "nbformat_minor": 2
}
